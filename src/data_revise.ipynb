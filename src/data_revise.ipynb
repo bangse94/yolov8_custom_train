{
 "cells": [
  {
   "cell_type": "code",
   "execution_count": 2,
   "metadata": {},
   "outputs": [
    {
     "name": "stderr",
     "output_type": "stream",
     "text": [
      "  0%|          | 0/1 [00:00<?, ?it/s]"
     ]
    },
    {
     "name": "stderr",
     "output_type": "stream",
     "text": [
      "file:   0%|          | 13/4952 [00:00<00:01, 2558.58it/s]\n",
      "  0%|          | 0/1 [00:00<?, ?it/s]\n"
     ]
    },
    {
     "name": "stdout",
     "output_type": "stream",
     "text": [
      "0 0.4 0.328 0.306 0.458\n",
      "\n",
      "0 0.517 0.26 0.188 0.296\n",
      "\n",
      "0 0.093 0.252 0.065 0.25\n",
      "\n",
      "0 0.178 0.159 0.096 0.133\n",
      "\n",
      "0 0.762 0.146 0.036 0.071\n",
      "\n",
      "0 0.737 0.209 0.043 0.165\n",
      "\n",
      "0 0.526 0.16 0.05 0.044\n",
      "\n",
      "0 0.58 0.169 0.065 0.092\n",
      "\n",
      "0 0.818 0.143 0.032 0.079\n",
      "\n",
      "0 0.197 0.255 0.079 0.222\n",
      "\n",
      "0 0.259 0.24 0.059 0.236\n",
      "\n",
      "0 0.071 0.156 0.056 0.113\n",
      "\n",
      "0 0.846 0.251 0.064 0.241\n",
      "\n",
      "0 0.499 0.158 0.998 0.172\n",
      "\n",
      "0 0.5 0.543 0.822 0.884\n",
      "\n",
      "0 0.6 0.616 0.046 0.182\n",
      "\n",
      "0 0.234 0.698 0.033 0.106\n",
      "\n",
      "0 0.375 0.693 0.024 0.017\n",
      "\n",
      "0 0.426 0.696 0.017 0.066\n",
      "\n",
      "1 0.315 0.497 0.631 0.622\n",
      "\n",
      "0 0.364 0.655 0.115 0.461\n",
      "\n",
      "0 0.447 0.687 0.077 0.357\n",
      "\n",
      "0 0.662 0.721 0.11 0.476\n",
      "\n",
      "0 0.465 0.57 0.043 0.168\n",
      "\n",
      "0 0.518 0.652 0.061 0.381\n",
      "\n",
      "0 0.719 0.697 0.068 0.449\n",
      "\n",
      "0 0.852 0.645 0.296 0.71\n",
      "\n",
      "0 0.428 0.494 0.032 0.062\n",
      "\n",
      "1 0.72 0.397 0.25 0.21\n",
      "\n",
      "0 0.429 0.408 0.351 0.815\n",
      "\n",
      "0 0.835 0.085 0.16 0.171\n",
      "\n",
      "0 0.514 0.482 0.587 0.72\n",
      "\n",
      "0 0.942 0.084 0.115 0.169\n",
      "\n",
      "0 0.269 0.119 0.215 0.237\n",
      "\n",
      "0 0.408 0.083 0.128 0.16\n",
      "\n",
      "0 0.062 0.09 0.125 0.169\n",
      "\n",
      "15 0.428 0.637 0.857 0.581\n",
      "\n",
      "None 0.594 0.637 0.293 0.198\n",
      "\n"
     ]
    },
    {
     "ename": "ValueError",
     "evalue": "invalid literal for int() with base 10: 'None'",
     "output_type": "error",
     "traceback": [
      "\u001b[0;31m---------------------------------------------------------------------------\u001b[0m",
      "\u001b[0;31mValueError\u001b[0m                                Traceback (most recent call last)",
      "Cell \u001b[0;32mIn[2], line 24\u001b[0m\n\u001b[1;32m     22\u001b[0m \u001b[39mprint\u001b[39m(line)\n\u001b[1;32m     23\u001b[0m line \u001b[39m=\u001b[39m line\u001b[39m.\u001b[39msplit(\u001b[39m'\u001b[39m\u001b[39m \u001b[39m\u001b[39m'\u001b[39m)\n\u001b[0;32m---> 24\u001b[0m \u001b[39mif\u001b[39;00m \u001b[39mint\u001b[39;49m(line[\u001b[39m0\u001b[39;49m]) \u001b[39m==\u001b[39m \u001b[39m0\u001b[39m:\n\u001b[1;32m     25\u001b[0m     line[\u001b[39m0\u001b[39m] \u001b[39m=\u001b[39m \u001b[39m'\u001b[39m\u001b[39m0\u001b[39m\u001b[39m'\u001b[39m\n\u001b[1;32m     26\u001b[0m \u001b[39melif\u001b[39;00m \u001b[39mint\u001b[39m(line[\u001b[39m0\u001b[39m]) \u001b[39m==\u001b[39m \u001b[39m2\u001b[39m \u001b[39mor\u001b[39;00m \u001b[39mint\u001b[39m(line[\u001b[39m0\u001b[39m]) \u001b[39m==\u001b[39m \u001b[39m7\u001b[39m \u001b[39mor\u001b[39;00m \u001b[39mint\u001b[39m(line[\u001b[39m0\u001b[39m]) \u001b[39m==\u001b[39m \u001b[39m9\u001b[39m:\n",
      "\u001b[0;31mValueError\u001b[0m: invalid literal for int() with base 10: 'None'"
     ]
    }
   ],
   "source": [
    "# this script for coco data revise\n",
    "# format : [0: person, 1: car]\n",
    "# 1. revise the data format\n",
    "# 2. revise the data label\n",
    "# the label in coco dataset that we need is [0: person, 2: car, 7: bus, 9: truck]\n",
    "# labels in car is [2: car, 7: bus, 9: truck] -> it is would be revised to [1: car]\n",
    "\n",
    "import os\n",
    "import os.path\n",
    "from tqdm import tqdm\n",
    "\n",
    "file_path = '/data/YOLO/val_revised'\n",
    "#file_path = '/workspace/yolov8/dev/test_sample'\n",
    "\n",
    "for root, dirs, files in tqdm(list(os.walk(file_path))):\n",
    "    for file in tqdm(files, desc='file'):\n",
    "        file_name = os.path.join(root, file)\n",
    "        with open(file_name, 'r', encoding='utf-8') as f:\n",
    "            lines = f.readlines()\n",
    "        with open(file_name, 'w', encoding='utf-8') as f:\n",
    "            for line in lines:\n",
    "                line = line.split(' ')\n",
    "                if int(line[0]) == 'None':\n",
    "                    continue\n",
    "                \n",
    "                if int(line[0]) == 0:\n",
    "                    line[0] = '0'\n",
    "                elif int(line[0]) == 2 or int(line[0]) == 7 or int(line[0]) == 9:\n",
    "                    line[0] = '1'\n",
    "                else:\n",
    "                    continue\n",
    "                line = ' '.join(line)\n",
    "                f.write(line)"
   ]
  }
 ],
 "metadata": {
  "kernelspec": {
   "display_name": "base",
   "language": "python",
   "name": "python3"
  },
  "language_info": {
   "codemirror_mode": {
    "name": "ipython",
    "version": 3
   },
   "file_extension": ".py",
   "mimetype": "text/x-python",
   "name": "python",
   "nbconvert_exporter": "python",
   "pygments_lexer": "ipython3",
   "version": "3.10.9"
  },
  "orig_nbformat": 4
 },
 "nbformat": 4,
 "nbformat_minor": 2
}
