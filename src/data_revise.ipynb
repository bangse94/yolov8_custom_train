{
 "cells": [
  {
   "cell_type": "code",
   "execution_count": null,
   "metadata": {},
   "outputs": [],
   "source": [
    "# this script for coco data revise\n",
    "# format : [0: person, 1: car]\n",
    "# 1. revise the data format\n",
    "# 2. revise the data label\n",
    "# the label in coco dataset that we need is [0: person, 2: car, 7: bus, 9: truck]\n",
    "# labels in car is [2: car, 7: bus, 9: truck] -> it is would be revised to [1: car]\n",
    "\n",
    "import os\n",
    "import os.path\n",
    "from tqdm import tqdm\n",
    "\n",
    "file_path = '/data/YOLO/val_revised'\n",
    "#file_path = '/workspace/yolov8/dev/test_sample'\n",
    "\n",
    "for root, dirs, files in tqdm(list(os.walk(file_path))):\n",
    "    for file in tqdm(files, desc='file'):\n",
    "        file_name = os.path.join(root, file)\n",
    "        with open(file_name, 'r', encoding='utf-8') as f:\n",
    "            lines = f.readlines()\n",
    "        with open(file_name, 'w', encoding='utf-8') as f:\n",
    "            for line in lines:\n",
    "                line = line.split(' ')\n",
    "                if int(line[0]) == 'None':\n",
    "                    continue\n",
    "                \n",
    "                if int(line[0]) == 0:\n",
    "                    line[0] = '0'\n",
    "                elif int(line[0]) == 2 or int(line[0]) == 7 or int(line[0]) == 9:\n",
    "                    line[0] = '1'\n",
    "                else:\n",
    "                    continue\n",
    "                line = ' '.join(line)\n",
    "                f.write(line)"
   ]
  },
  {
   "cell_type": "code",
   "execution_count": 2,
   "metadata": {},
   "outputs": [
    {
     "name": "stderr",
     "output_type": "stream",
     "text": [
      "file: 100%|██████████| 1/1 [00:00<00:00, 18236.10it/s]\n",
      "file: 100%|██████████| 118287/118287 [00:00<00:00, 688357.55it/s]\n",
      "file: 100%|██████████| 69681/69681 [00:09<00:00, 7218.16it/s]\n",
      "100%|██████████| 3/3 [00:09<00:00,  3.28s/it]\n"
     ]
    }
   ],
   "source": [
    "import os\n",
    "import os.path\n",
    "from tqdm import tqdm\n",
    "\n",
    "file_path = '/data/YOLO/train_coco_2class'\n",
    "#file_path = '/workspace/yolov8/dev/test_sample'\n",
    "\n",
    "for root, dirs, files in tqdm(list(os.walk(file_path))):\n",
    "    for file in tqdm(files, desc='file'):\n",
    "        _, file_ext = os.path.splitext(file)\n",
    "        if file_ext == '.txt':\n",
    "            file_name = os.path.join(root, file)\n",
    "            with open(file_name, 'r', encoding='utf-8') as f:\n",
    "                lines = f.readlines()\n",
    "            with open(file_name, 'w', encoding='utf-8') as f:\n",
    "                for line in lines:\n",
    "                    line = line.split(' ')\n",
    "                    if int(line[0]) == 'None':\n",
    "                        continue\n",
    "                    \n",
    "                    if int(line[0]) == 0:\n",
    "                        line[0] = '0'\n",
    "                    elif int(line[0]) == 2:\n",
    "                        line[0] = '1'\n",
    "                    else:\n",
    "                        continue\n",
    "                    line = ' '.join(line)\n",
    "                    f.write(line)"
   ]
  }
 ],
 "metadata": {
  "kernelspec": {
   "display_name": "base",
   "language": "python",
   "name": "python3"
  },
  "language_info": {
   "codemirror_mode": {
    "name": "ipython",
    "version": 3
   },
   "file_extension": ".py",
   "mimetype": "text/x-python",
   "name": "python",
   "nbconvert_exporter": "python",
   "pygments_lexer": "ipython3",
   "version": "3.10.9"
  },
  "orig_nbformat": 4
 },
 "nbformat": 4,
 "nbformat_minor": 2
}
